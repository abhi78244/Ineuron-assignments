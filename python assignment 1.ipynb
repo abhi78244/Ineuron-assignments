{
 "cells": [
  {
   "cell_type": "markdown",
   "metadata": {},
   "source": [
    "# Question 1"
   ]
  },
  {
   "cell_type": "code",
   "execution_count": 1,
   "metadata": {},
   "outputs": [],
   "source": [
    "l = []\n",
    "for i in range(2000,3201):\n",
    "    if i%7==0 and i%5 != 0:\n",
    "        l.append(i)\n",
    "        "
   ]
  },
  {
   "cell_type": "markdown",
   "metadata": {},
   "source": [
    "# Question 2"
   ]
  },
  {
   "cell_type": "code",
   "execution_count": 1,
   "metadata": {},
   "outputs": [
    {
     "name": "stdout",
     "output_type": "stream",
     "text": [
      "Enter the first nameabhi\n",
      "Enter the last namerai\n",
      "ihba iar\n"
     ]
    }
   ],
   "source": [
    "first_name = input(\"Enter the first name\")\n",
    "last_name = input(\"Enter the last name\")\n",
    "\n",
    "print(first_name[::-1] +\" \"+last_name[::-1])\n"
   ]
  },
  {
   "cell_type": "markdown",
   "metadata": {},
   "source": [
    "# Question 3"
   ]
  },
  {
   "cell_type": "code",
   "execution_count": 12,
   "metadata": {},
   "outputs": [
    {
     "name": "stdout",
     "output_type": "stream",
     "text": [
      "Enter the radius of sphere 11\n",
      "Volume of Sphere is 5577.523809523808\n"
     ]
    }
   ],
   "source": [
    "r = int(input(\"Enter the radius of sphere \"))\n",
    "\n",
    "V = (4/3)*(22/7)*r**3\n",
    "\n",
    "print(\"Volume of Sphere is {}\".format(V))"
   ]
  },
  {
   "cell_type": "code",
   "execution_count": null,
   "metadata": {},
   "outputs": [],
   "source": []
  }
 ],
 "metadata": {
  "kernelspec": {
   "display_name": "Python 3",
   "language": "python",
   "name": "python3"
  },
  "language_info": {
   "codemirror_mode": {
    "name": "ipython",
    "version": 3
   },
   "file_extension": ".py",
   "mimetype": "text/x-python",
   "name": "python",
   "nbconvert_exporter": "python",
   "pygments_lexer": "ipython3",
   "version": "3.7.3"
  }
 },
 "nbformat": 4,
 "nbformat_minor": 2
}
